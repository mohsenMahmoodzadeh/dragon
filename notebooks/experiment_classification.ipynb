{
  "nbformat": 4,
  "nbformat_minor": 0,
  "metadata": {
    "colab": {
      "provenance": []
    },
    "kernelspec": {
      "name": "python3",
      "display_name": "Python 3"
    },
    "language_info": {
      "name": "python"
    }
  },
  "cells": [
    {
      "cell_type": "code",
      "execution_count": 12,
      "metadata": {
        "id": "BY9z0RD7vVCB"
      },
      "outputs": [],
      "source": [
        "import os\n",
        "from pprint import pprint\n",
        "\n",
        "from sklearn.metrics import classification_report\n",
        "from sklearn.neighbors import KNeighborsClassifier\n",
        "from sklearn.pipeline import make_pipeline\n",
        "from sklearn.preprocessing import StandardScaler\n",
        "from sklearn.svm import SVC\n",
        "import xgboost as xgb\n",
        "import torch\n",
        "import pandas as pd"
      ]
    },
    {
      "cell_type": "code",
      "source": [
        "def create_cls_model_spec(task, data_spec):\n",
        "    cls_model_spec = {\n",
        "        'knn': {\n",
        "            'cls': make_pipeline(\n",
        "                StandardScaler(),\n",
        "                KNeighborsClassifier(n_neighbors=len(data_spec[task]['label_names']))\n",
        "            )\n",
        "        },\n",
        "        'svc': {\n",
        "            'cls': make_pipeline(StandardScaler(), SVC(gamma='auto'))\n",
        "        },\n",
        "\n",
        "        'xgboost': {\n",
        "            'cls': xgb.XGBClassifier()\n",
        "        }\n",
        "    }\n",
        "\n",
        "    return cls_model_spec"
      ],
      "metadata": {
        "id": "A0Shz2xYvdh-"
      },
      "execution_count": 2,
      "outputs": []
    },
    {
      "cell_type": "code",
      "source": [
        "def get_data_spec():\n",
        "    data_spec = {}\n",
        "\n",
        "    data_spec['Propaganda'] = {\n",
        "        'label2id': {\n",
        "          \"Not Propaganda\": 0,\n",
        "          \"Propaganda\": 1,\n",
        "          \"Unclear\": 2,\n",
        "          \"Not Applicable\": 3,\n",
        "        },\n",
        "        'id2label': {\n",
        "          \"0\": \"Not Propaganda\",\n",
        "          \"1\": \"Propaganda\",\n",
        "          \"2\": \"Unclear\",\n",
        "          \"3\": \"Not Applicable\",\n",
        "        },\n",
        "        'label_names': [\"Not Propaganda\", \"Propaganda\", \"Unclear\", \"Not Applicable\"],\n",
        "    }\n",
        "\n",
        "    data_spec['Bias'] = {\n",
        "\n",
        "        'label2id': {\n",
        "          \"Unbiased\": 0,\n",
        "          \"Biased against Palestine\": 1,\n",
        "          \"Biased against Israel\": 2,\n",
        "          \"Biased against both Palestine and Israel\": 3,\n",
        "          \"Biased against others\": 4,\n",
        "          \"Unclear\": 5,\n",
        "          \"Not Applicable\": 6\n",
        "        },\n",
        "        'id2label': {\n",
        "          \"0\": \"Unbiased\",\n",
        "          \"1\": \"Biased against Palestine\",\n",
        "          \"2\": \"Biased against Israel\",\n",
        "          \"3\": \"Biased against both Palestine and Israel\",\n",
        "          \"4\": \"Biased against others\",\n",
        "          \"5\": \"Unclear\",\n",
        "          \"6\": \"Not Applicable\"\n",
        "        },\n",
        "        'label_names': [\n",
        "            \"Unbiased\",\n",
        "            \"Biased against Palestine\",\n",
        "            \"Biased against Israel\",\n",
        "            \"Biased against both Palestine and Israel\",\n",
        "            \"Biased against others\",\n",
        "            \"Unclear\",\n",
        "            \"Not Applicable\"\n",
        "        ],\n",
        "    }\n",
        "\n",
        "    return data_spec"
      ],
      "metadata": {
        "id": "vDkCAbtavlp6"
      },
      "execution_count": 3,
      "outputs": []
    },
    {
      "cell_type": "code",
      "source": [
        "def get_train_test_splits(task, data_spec):\n",
        "    task_data_spec = data_spec[task]\n",
        "\n",
        "    data_dir = os.path.join(os.getcwd(), 'data')\n",
        "    task_data_dir = os.path.join(data_dir, task.lower())\n",
        "\n",
        "    train_data = pd.read_excel(os.path.join(task_data_dir, f'{task.lower()}_train_data.xlsx'))\n",
        "    test_data = pd.read_excel(os.path.join(task_data_dir, f'{task.lower()}_test_data.xlsx'))\n",
        "\n",
        "    label2id = task_data_spec['label2id']\n",
        "\n",
        "    train_data[task] = train_data[task].map(label2id)\n",
        "    test_data[task] = test_data[task].map(label2id)\n",
        "\n",
        "    data_splits = {\"train\": train_data, \"test\": test_data}\n",
        "\n",
        "    return data_splits"
      ],
      "metadata": {
        "id": "j8M4keWQvmm0"
      },
      "execution_count": 4,
      "outputs": []
    },
    {
      "cell_type": "code",
      "source": [
        "def classify(cls, train_data, test_data, label_names):\n",
        "    x_train, y_train = train_data\n",
        "    x_test, y_test = test_data\n",
        "\n",
        "    cls.fit(x_train, y_train)\n",
        "    y_pred = cls.predict(x_test)\n",
        "\n",
        "    report = classification_report(y_test, y_pred, target_names=label_names, output_dict=True)\n",
        "    return report"
      ],
      "metadata": {
        "id": "NmJXLv-Wvrsr"
      },
      "execution_count": 5,
      "outputs": []
    },
    {
      "cell_type": "code",
      "source": [
        "def get_embeddings(task, embedding_method):\n",
        "    train_embeddings = torch.load(\n",
        "        os.path.join(os.getcwd(), 'embeddings', task.lower(), f'{embedding_method}_train_embeddings.pt')\n",
        "    )\n",
        "\n",
        "    test_embeddings = torch.load(\n",
        "        os.path.join(os.getcwd(), 'embeddings', task.lower(), f'{embedding_method}_test_embeddings.pt')\n",
        "    )\n",
        "\n",
        "    embeddings = {\n",
        "        \"train\": train_embeddings,\n",
        "        \"test\": test_embeddings\n",
        "    }\n",
        "\n",
        "    return embeddings"
      ],
      "metadata": {
        "id": "zhR_Su4Uvyma"
      },
      "execution_count": 9,
      "outputs": []
    },
    {
      "cell_type": "code",
      "source": [
        "def main():\n",
        "\n",
        "    # Use one of the following values for task parameter: 'Propaganda' or 'Bias'\n",
        "    task = 'Propaganda'\n",
        "\n",
        "    # Use one of the following values for embedding_method parameter: 'ML-E5-large', 'BGE-M3', 'E5-mistral-7b', or 'Nomic-Embed'\n",
        "    embedding_method = 'ML-E5-large'\n",
        "\n",
        "    # Use one of the following values for cls_method parameter: 'svc', 'knn', or 'xgboost'\n",
        "    cls_method = 'knn'\n",
        "\n",
        "    data_spec = get_data_spec()\n",
        "    cls_model_spec = create_cls_model_spec(task, data_spec)\n",
        "\n",
        "    cls = cls_model_spec[cls_method][\"cls\"]\n",
        "\n",
        "    embeddings = get_embeddings(task, embedding_method)\n",
        "    train_embeddings = embeddings[\"train\"]\n",
        "    test_embeddings = embeddings[\"test\"]\n",
        "\n",
        "    data_splits = get_train_test_splits(task, data_spec)\n",
        "    train_data = data_splits[\"train\"]\n",
        "    test_data = data_splits[\"test\"]\n",
        "\n",
        "    x_train = train_embeddings\n",
        "    y_train = train_data[task].tolist()\n",
        "    x_test = test_embeddings\n",
        "    y_test = test_data[task].tolist()\n",
        "\n",
        "    label_names = data_spec[task][\"label_names\"]\n",
        "    report = classify(cls, (x_train, y_train), (x_test, y_test), label_names)\n",
        "\n",
        "    print(\n",
        "        f\"The classification report for {task} task with {embedding_method} \"\n",
        "        f\"embedding method and {cls_method} classifier:\\n\"\n",
        "    )\n",
        "\n",
        "    pprint(report)"
      ],
      "metadata": {
        "id": "2oe1YIltv1Yy"
      },
      "execution_count": 20,
      "outputs": []
    },
    {
      "cell_type": "code",
      "source": [
        "main()"
      ],
      "metadata": {
        "colab": {
          "base_uri": "https://localhost:8080/"
        },
        "id": "gsa-oRuJv48z",
        "outputId": "dd6cf81c-0459-497e-ade7-008bf3adc297"
      },
      "execution_count": 21,
      "outputs": [
        {
          "output_type": "stream",
          "name": "stdout",
          "text": [
            "The classification report for Propaganda task with ML-E5-large embedding method and knn classifier: \n",
            "\n",
            "{'Not Applicable': {'f1-score': 0.48,\n",
            "                    'precision': 0.75,\n",
            "                    'recall': 0.35294117647058826,\n",
            "                    'support': 17},\n",
            " 'Not Propaganda': {'f1-score': 0.7548806941431669,\n",
            "                    'precision': 0.6666666666666666,\n",
            "                    'recall': 0.87,\n",
            "                    'support': 200},\n",
            " 'Propaganda': {'f1-score': 0.4842105263157894,\n",
            "                'precision': 0.5542168674698795,\n",
            "                'recall': 0.42990654205607476,\n",
            "                'support': 107},\n",
            " 'Unclear': {'f1-score': 0.15384615384615383,\n",
            "             'precision': 0.3333333333333333,\n",
            "             'recall': 0.1,\n",
            "             'support': 40},\n",
            " 'accuracy': 0.6318681318681318,\n",
            " 'macro avg': {'f1-score': 0.4682343435762775,\n",
            "               'precision': 0.5760542168674698,\n",
            "               'recall': 0.4382119296316658,\n",
            "               'support': 364},\n",
            " 'weighted avg': {'f1-score': 0.5964299760941457,\n",
            "                  'precision': 0.6008732733130323,\n",
            "                  'recall': 0.6318681318681318,\n",
            "                  'support': 364}}\n"
          ]
        }
      ]
    },
    {
      "cell_type": "code",
      "source": [],
      "metadata": {
        "id": "qAynjsoXzF-i"
      },
      "execution_count": null,
      "outputs": []
    }
  ]
}